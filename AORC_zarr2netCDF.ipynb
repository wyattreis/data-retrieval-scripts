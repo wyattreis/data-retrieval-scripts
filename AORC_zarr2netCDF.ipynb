{
 "cells": [
  {
   "cell_type": "markdown",
   "metadata": {},
   "source": [
    "# Download AORC Version 1.1 Dataset from AWS S3\n",
    "\n",
    "This notebook can be used to download AORC Version 1.1 data from the AWS S3 repository (https://registry.opendata.aws/noaa-nws-aorc/) to netCDF files. Additional details on the AORC datset can be found in Fall et al. 2023 ( https://doi.org/10.1111/1752-1688.13143). \n",
    "\n",
    "The code was modified from Michael AuCoin's Tutorial (https://nbviewer.org/github/NOAA-OWP/AORC-jupyter-notebooks/blob/master/jupyter_notebooks/AORC_Zarr_notebook.ipynb) to include downloading the .zarr files as a netCDF for a specific area of interest. \n",
    "\n",
    "Additionally, wind_speed is calculated and exported using the windspeed vector components provided within the .zarr files.\n",
    "\n",
    "Created: 7/11/2024"
   ]
  },
  {
   "cell_type": "code",
   "execution_count": null,
   "metadata": {},
   "outputs": [],
   "source": [
    "import xarray as xr\n",
    "import fsspec\n",
    "import numpy as np\n",
    "import s3fs\n",
    "import zarr\n",
    "import dask\n",
    "\n",
    "# if running locally, you will need this line\n",
    "dask.config.set(temporary_directory='/dask-worker-space')\n",
    "\n",
    "# URL to the S3 Bucket\n",
    "base_url = f's3://noaa-nws-aorc-v1-1-1km'\n",
    "\n",
    "# Directory for netCDF to download\n",
    "download_dir = 'path/to/dir/'"
   ]
  },
  {
   "cell_type": "markdown",
   "metadata": {},
   "source": [
    "## Download a Single Year of AORC Data\n",
    "\n",
    "In the following code cells we will download data for a specified area for a single year. In this example, we will download multiple variables at once. A complete list of variable names and descriotions is avalible on the AWS data repository page linked above. "
   ]
  },
  {
   "cell_type": "code",
   "execution_count": null,
   "metadata": {},
   "outputs": [],
   "source": [
    "# Set the year of interest\n",
    "year = '1996'\n",
    "\n",
    "# Identify the variables of interest\n",
    "var=['APCP_surface', 'TMP_2maboveground', 'DLWRF_surface', 'DSWRF_surface', 'UGRD_10maboveground', 'VGRD_10maboveground']"
   ]
  },
  {
   "cell_type": "code",
   "execution_count": null,
   "metadata": {},
   "outputs": [],
   "source": [
    "#%%time\n",
    "# Extract the variables to a dataset for the specified year.  \n",
    "single_year_url = f'{base_url}/{year}.zarr/'\n",
    "ds_single = xr.open_zarr(fsspec.get_mapper(single_year_url, anon=True), consolidated=True)\n",
    "ds = ds_single[var]"
   ]
  },
  {
   "cell_type": "markdown",
   "metadata": {},
   "source": [
    "#### Calculate Wind Speed from AORC Vector Components"
   ]
  },
  {
   "cell_type": "code",
   "execution_count": null,
   "metadata": {},
   "outputs": [],
   "source": [
    "# Identify the indices of the windspeed vector components in the var list\n",
    "u = ds_single[var[4]] # update index of U Wind Speed Component\n",
    "v = ds_single[var[5]] # update index of V Wind Speed Component\n",
    "\n",
    "wind_speed = np.sqrt(u**2 + v**2)\n",
    "ds['wind_speed'] = wind_speed"
   ]
  },
  {
   "cell_type": "markdown",
   "metadata": {},
   "source": [
    "#### View Dataset and Size"
   ]
  },
  {
   "cell_type": "code",
   "execution_count": null,
   "metadata": {},
   "outputs": [],
   "source": [
    "print(ds)\n",
    "print(f'Dataset size: {ds.nbytes/1e12:.1f} TB')"
   ]
  },
  {
   "cell_type": "markdown",
   "metadata": {},
   "source": [
    "#### Filter Dataset to an Area of Interest"
   ]
  },
  {
   "cell_type": "code",
   "execution_count": null,
   "metadata": {},
   "outputs": [],
   "source": [
    "# Set max/min lat and lon\n",
    "minlon = -120.5\n",
    "maxlon = -119.1\n",
    "minlat = 38.5\n",
    "maxlat = 40\n",
    "\n",
    "ds_bbox = ds.sel(latitude=slice(minlat, maxlat), longitude=slice(minlon, maxlon))\n",
    "\n",
    "# Print the final file size to be downloaded\n",
    "print(f'Variable size: {ds_bbox.nbytes/1e9:.1f} GB')"
   ]
  },
  {
   "cell_type": "markdown",
   "metadata": {},
   "source": [
    "#### Download as a netCDF"
   ]
  },
  {
   "cell_type": "code",
   "execution_count": null,
   "metadata": {},
   "outputs": [],
   "source": [
    "# Identify a file name for the netCDF file\n",
    "file_name = 'file_name'\n",
    "\n",
    "ds_bbox.to_netcdf(f'{download_dir}/{file_name}.nc')"
   ]
  },
  {
   "cell_type": "markdown",
   "metadata": {},
   "source": [
    "## Download Multiple Years of AORC Data\n",
    "\n",
    "In the following code cells we will download data for a specified area for a range of years. In this example, we will download multiple variables at once. A complete list of variable names and descriotions is avalible on the AWS data repository page linked above. "
   ]
  },
  {
   "cell_type": "code",
   "execution_count": null,
   "metadata": {},
   "outputs": [],
   "source": [
    "# Set the range of years to download\n",
    "dataset_years = list(range(1996,1998)) \n",
    "\n",
    "# Identify the variables of interest\n",
    "var=['APCP_surface', 'TMP_2maboveground', 'DLWRF_surface', 'DSWRF_surface', 'UGRD_10maboveground', 'VGRD_10maboveground']"
   ]
  },
  {
   "cell_type": "code",
   "execution_count": null,
   "metadata": {},
   "outputs": [],
   "source": [
    "\n",
    "s3_out = s3fs.S3FileSystem(anon=True)\n",
    "fileset = [s3fs.S3Map(\n",
    "            root=f\"s3://{base_url}/{dataset_year}.zarr\", s3=s3_out, check=False\n",
    "        ) for dataset_year in dataset_years]\n",
    "\n",
    "ds_multi_year = xr.open_mfdataset(fileset, engine='zarr')\n",
    "ds_multi = ds_multi_year[var]"
   ]
  },
  {
   "cell_type": "markdown",
   "metadata": {},
   "source": [
    "#### Calculate Wind Speed from AORC Vector Components"
   ]
  },
  {
   "cell_type": "code",
   "execution_count": null,
   "metadata": {},
   "outputs": [],
   "source": [
    "# Identify the indices of the windspeed vector components in the var list\n",
    "u = ds_multi_year[var[4]] # update index of U Wind Speed Component\n",
    "v = ds_multi_year[var[5]] # update index of V Wind Speed Component\n",
    "\n",
    "wind_speed = np.sqrt(u**2 + v**2)\n",
    "ds_multi['wind_speed'] = wind_speed"
   ]
  },
  {
   "cell_type": "markdown",
   "metadata": {},
   "source": [
    "#### View Dataset and Size"
   ]
  },
  {
   "cell_type": "code",
   "execution_count": null,
   "metadata": {},
   "outputs": [],
   "source": [
    "print(ds_multi)\n",
    "print(f'Variable size: {ds_multi.nbytes/1e12:.1f} TB')"
   ]
  },
  {
   "cell_type": "markdown",
   "metadata": {},
   "source": [
    "#### Filter Dataset to an Area of Interest"
   ]
  },
  {
   "cell_type": "code",
   "execution_count": null,
   "metadata": {},
   "outputs": [],
   "source": [
    "# Set max/min lat and lon\n",
    "minlon = -120.5\n",
    "maxlon = -119.1\n",
    "minlat = 38.5\n",
    "maxlat = 40\n",
    "\n",
    "ds_multi_bbox = ds_multi.sel(latitude=slice(minlat, maxlat), longitude=slice(minlon, maxlon))\n",
    "\n",
    "# Print the final file size to be downloaded\n",
    "print(f'Variable size: {ds_multi_bbox.nbytes/1e9:.1f} GB')"
   ]
  },
  {
   "cell_type": "markdown",
   "metadata": {},
   "source": [
    "#### Download as a netCDF"
   ]
  },
  {
   "cell_type": "code",
   "execution_count": null,
   "metadata": {},
   "outputs": [],
   "source": [
    "# Identify a file name for the netCDF file\n",
    "file_name = 'file_name'\n",
    "\n",
    "ds_multi_bbox.to_netcdf(f'{download_dir}/{file_name}.nc')"
   ]
  }
 ],
 "metadata": {
  "kernelspec": {
   "display_name": "dwnldpy",
   "language": "python",
   "name": "python3"
  },
  "language_info": {
   "codemirror_mode": {
    "name": "ipython",
    "version": 3
   },
   "file_extension": ".py",
   "mimetype": "text/x-python",
   "name": "python",
   "nbconvert_exporter": "python",
   "pygments_lexer": "ipython3",
   "version": "3.12.4"
  }
 },
 "nbformat": 4,
 "nbformat_minor": 2
}
